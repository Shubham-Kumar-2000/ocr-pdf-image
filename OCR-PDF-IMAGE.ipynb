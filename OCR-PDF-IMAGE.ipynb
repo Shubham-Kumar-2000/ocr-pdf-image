{
 "cells": [
  {
   "cell_type": "code",
   "execution_count": 3,
   "metadata": {},
   "outputs": [],
   "source": [
    "import re\n",
    "from PIL import Image\n",
    "import pytesseract\n",
    "import argparse\n",
    "from pdf2image.exceptions import (\n",
    "    PDFInfoNotInstalledError,\n",
    "    PDFPageCountError,\n",
    "    PDFSyntaxError\n",
    ")\n",
    "import cv2\n",
    "import numpy as np\n",
    "import piexif\n",
    "from pdf2image import convert_from_path\n",
    "import os\n",
    "import pandas as pd\n",
    "from nltk.util import bigrams"
   ]
  },
  {
   "cell_type": "code",
   "execution_count": 2,
   "metadata": {},
   "outputs": [],
   "source": [
    "import nltk\n",
    "from nltk import ne_chunk\n",
    "from nltk.corpus import stopwords\n",
    "from nltk.tokenize import word_tokenize"
   ]
  },
  {
   "cell_type": "code",
   "execution_count": 4,
   "metadata": {},
   "outputs": [
    {
     "name": "stdout",
     "output_type": "stream",
     "text": [
      "finally\n"
     ]
    }
   ],
   "source": [
    "def reduce_lengthening(text):\n",
    "    pattern = re.compile(r\"(.)\\1{2,}\")\n",
    "    return pattern.sub(r\"\\1\\1\", text);\n",
    "print(reduce_lengthening(\"finallllllly\"))"
   ]
  },
  {
   "cell_type": "code",
   "execution_count": 13,
   "metadata": {},
   "outputs": [
    {
     "name": "stdout",
     "output_type": "stream",
     "text": [
      "amazziing\n",
      "[('muzzaffarpur', 0.0)]\n"
     ]
    }
   ],
   "source": [
    "from pattern.en import suggest\n",
    "\n",
    "word = \"amazzziiing\"\n",
    "word_wlf = reduce_lengthening(word) #calling function defined above\n",
    "print( word_wlf) #word lengthening isn't being able to fix it completely\n",
    "\n",
    "correct_word = \"\"\n",
    "try:\n",
    "    correct_word = suggest(\"muzzaffarpur\") \n",
    "except:\n",
    "    correct_word = suggest(\"tota\")\n",
    "print(correct_word)"
   ]
  },
  {
   "cell_type": "code",
   "execution_count": 6,
   "metadata": {},
   "outputs": [],
   "source": [
    "def rotate(image, center = None, scale = 1.0):\n",
    "    angle=360\n",
    "    try:\n",
    "        angle=360-int(re.search('(?<=Rotate: )\\d+', pytesseract.image_to_osd(image)).group(0))\n",
    "    except:\n",
    "        print(\"An exception occurred\")\n",
    "    print(angle)\n",
    "    (h, w) = image.shape[:2]\n",
    "\n",
    "    if center is None:\n",
    "        center = (w / 2, h / 2)\n",
    "\n",
    "    # Perform the rotation\n",
    "    M = cv2.getRotationMatrix2D(center, angle, scale)\n",
    "    rotated = cv2.warpAffine(image, M, (w, h))\n",
    "\n",
    "    return rotated"
   ]
  },
  {
   "cell_type": "code",
   "execution_count": 8,
   "metadata": {},
   "outputs": [],
   "source": [
    "def is_number(s):\n",
    "    c=0;\n",
    "    for i in range(len(s)):\n",
    "        if s[i]==',':\n",
    "            c+=1\n",
    "    if c==1:\n",
    "        s=s.replace(',','.')\n",
    "    try:\n",
    "        return float(s)\n",
    "        return True\n",
    "    except ValueError:\n",
    "        return False\n",
    "def getFloat(s):\n",
    "    return float(s.replace(',','.'))"
   ]
  },
  {
   "cell_type": "code",
   "execution_count": 10,
   "metadata": {},
   "outputs": [],
   "source": [
    "def checkAlphaNum(word):\n",
    "    for i in range(0, len(word)):\n",
    "        if word[i].isalnum():\n",
    "            return True\n",
    "    return False"
   ]
  },
  {
   "cell_type": "code",
   "execution_count": 1,
   "metadata": {},
   "outputs": [],
   "source": [
    "def pdftoImage(add):\n",
    "    pdf=add\n",
    "    pages = convert_from_path(pdf,poppler_path = r\"C:\\Program Files\\poppler-0.51\\bin\")\n",
    "    for page in pages:\n",
    "        page.save('out.jpg', 'JPEG')"
   ]
  },
  {
   "cell_type": "code",
   "execution_count": 3,
   "metadata": {},
   "outputs": [],
   "source": [
    "def getTextFromImage(add,tes=r'C:\\Program Files (x86)\\Tesseract-OCR\\tesseract.exe'):\n",
    "    pytesseract.pytesseract.tesseract_cmd =tes\n",
    "    image = cv2.imread(add )\n",
    "    image= rotate(image)\n",
    "    height, width = image.shape[:2]\n",
    "    gray = cv2.cvtColor(image, cv2.COLOR_BGR2GRAY)\n",
    "    gray = cv2.adaptiveThreshold(gray,255,cv2.ADAPTIVE_THRESH_GAUSSIAN_C,cv2.THRESH_BINARY,21,11)\n",
    "    gray1=gray\n",
    "    gray = cv2.medianBlur(gray,3)\n",
    "    kernel = np.array([[-2, 0, -2], \n",
    "                       [0, 9,0], \n",
    "                       [-2, 0, -2]])\n",
    "    gray1 = cv2.medianBlur(gray1,5)\n",
    "    orig = cv2.cvtColor(image, cv2.COLOR_BGR2GRAY)\n",
    "    orig = cv2.medianBlur(orig,3)\n",
    "    orig = cv2.dilate(orig, np.ones((5,5), np.uint8) , iterations=1)\n",
    "    filename = \"xyz.png\".format(os.getpid())\n",
    "    cv2.imwrite(filename, gray)\n",
    "    filename1 = \"xyz1.png\".format(os.getpid())\n",
    "    cv2.imwrite(filename1, gray1)\n",
    "    filename2 = \"xyz2.png\".format(os.getpid())\n",
    "    cv2.imwrite(filename2, orig)\n",
    "    text = pytesseract.image_to_string(Image.open(filename), lang='eng',config=\"--psm 6\")\n",
    "    text1 = pytesseract.image_to_string(Image.open(filename1), lang='eng',config=\"--psm 6\")\n",
    "    text2=pytesseract.image_to_string(Image.open(filename2), lang='eng',config=\"--psm 6\")\n",
    "    os.remove(filename)\n",
    "    os.remove(filename1)\n",
    "    os.remove(filename2)\n",
    "    return (text,text1,text2)"
   ]
  }
 ],
 "metadata": {
  "kernelspec": {
   "display_name": "Python 3",
   "language": "python",
   "name": "python3"
  },
  "language_info": {
   "codemirror_mode": {
    "name": "ipython",
    "version": 3
   },
   "file_extension": ".py",
   "mimetype": "text/x-python",
   "name": "python",
   "nbconvert_exporter": "python",
   "pygments_lexer": "ipython3",
   "version": "3.7.4"
  }
 },
 "nbformat": 4,
 "nbformat_minor": 2
}
